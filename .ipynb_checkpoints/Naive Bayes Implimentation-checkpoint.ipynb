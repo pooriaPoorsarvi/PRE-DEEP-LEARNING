{
 "cells": [
  {
   "cell_type": "code",
   "execution_count": 4,
   "metadata": {},
   "outputs": [],
   "source": [
    "import numpy as np"
   ]
  },
  {
   "cell_type": "code",
   "execution_count": 144,
   "metadata": {},
   "outputs": [],
   "source": [
    "class Naive_Bayes(object):\n",
    "    \n",
    "    '''\n",
    "    This class will make an object that will predict your class based on the \n",
    "    observation it makes on your discrete data set\n",
    "    keep in mind one constant term is ignored in this implimentation\n",
    "    '''\n",
    "    \n",
    "    def __init__(self):\n",
    "        \n",
    "        self.list_ps_for_feats = None\n",
    "        self.p_labels = None\n",
    "        self.labels = None\n",
    "        self.num_t = None\n",
    "    \n",
    "    \n",
    "    def fit(self, X, y):\n",
    "        \n",
    "        assert(type(X) is np.ndarray)        \n",
    "        assert(type(y) is np.ndarray)\n",
    "        assert(len(y.shape) == 1)\n",
    "        \n",
    "#         right now you can only train this model once :D\n",
    "        self.labels = list(set([i for i in y]))\n",
    "        self.num_t = y.shape[0]\n",
    "        \n",
    "        self.p_labels = dict()\n",
    "        for i in y :\n",
    "            if i not in self.p_labels.keys():\n",
    "                self.p_labels[i] = np.sum(y==i)\n",
    "                \n",
    "        self.list_ps_for_feats = dict()\n",
    "        for i in self.labels:\n",
    "            self.list_ps_for_feats[i] = [dict() for i in range(X.shape[1])]\n",
    "        \n",
    "        for i, iv in enumerate(X) :\n",
    "            for j, jv in enumerate(iv):\n",
    "                \n",
    "                if jv not in self.list_ps_for_feats[y[i]][j].keys():\n",
    "                    self.list_ps_for_feats[y[i]][j][jv] = 1\n",
    "                else :\n",
    "                    self.list_ps_for_feats[y[i]][j][jv] += 1\n",
    "            \n",
    "    \n",
    "    \n",
    "    \n",
    "    def cal_prad(self, vector, num_class):\n",
    "        p = 1\n",
    "        for i, iv in enumerate(vector):\n",
    "            try : \n",
    "                p *= self.list_ps_for_feats[num_class][i][iv] / self.p_labels[num_class] \n",
    "            except Exception as e :\n",
    "                p *= 1e-8\n",
    "        p *= self.p_labels[num_class] / self.num_t\n",
    "#         print(vector, num_class)\n",
    "        return p\n",
    "        \n",
    "    def cal_row(self, vector):\n",
    "        max_p = -1\n",
    "        ind = -1\n",
    "        \n",
    "        for i in self.labels:\n",
    "            p_t = self.cal_prad(vector, i)\n",
    "            if p_t > max_p :\n",
    "                max_p = p_t\n",
    "                ind = i\n",
    "        return ind\n",
    "        \n",
    "    def predict(self, X):\n",
    "        \n",
    "        res = []\n",
    "        \n",
    "        for i in X:\n",
    "            res.append(self.cal_row(i))\n",
    "            \n",
    "        res = np.array(res)\n",
    "        \n",
    "        return res\n",
    "        "
   ]
  },
  {
   "cell_type": "code",
   "execution_count": 145,
   "metadata": {},
   "outputs": [],
   "source": [
    "n_b = Naive_Bayes()"
   ]
  },
  {
   "cell_type": "code",
   "execution_count": 146,
   "metadata": {},
   "outputs": [],
   "source": [
    "data = np.array(\n",
    "    [\n",
    "        [1,1,1,0],\n",
    "        [0,0,0,1]\n",
    "    ]\n",
    ")"
   ]
  },
  {
   "cell_type": "code",
   "execution_count": 147,
   "metadata": {},
   "outputs": [],
   "source": [
    "n_b.fit(data[:, :-1], data[:, -1])"
   ]
  },
  {
   "cell_type": "code",
   "execution_count": 148,
   "metadata": {},
   "outputs": [
    {
     "data": {
      "text/plain": [
       "array([0, 1])"
      ]
     },
     "execution_count": 148,
     "metadata": {},
     "output_type": "execute_result"
    }
   ],
   "source": [
    "n_b.predict(data[:, :-1])"
   ]
  },
  {
   "cell_type": "code",
   "execution_count": 149,
   "metadata": {},
   "outputs": [
    {
     "data": {
      "text/plain": [
       "{0: 1, 1: 1}"
      ]
     },
     "execution_count": 149,
     "metadata": {},
     "output_type": "execute_result"
    }
   ],
   "source": [
    "n_b.p_labels"
   ]
  },
  {
   "cell_type": "code",
   "execution_count": 150,
   "metadata": {},
   "outputs": [],
   "source": [
    "in1 = \"RED SPORT NO YES   RED SPORT NO NO RED SPORT NO YES   BLACK SPORT NO NO   BLACK SPORT YES YES   BLACK SPORT YES YES   BLACK CLASSIC NO NO   RED SPORT YES YES   YELLOW\tSPORT YES NO   YELLOW CLASSIC NO YES   YELLOW\tSPORT YES NO   YELLOW CLASSIC YES YES   YELLOW CLASSIC NO NO\"\n",
    "res = []\n",
    "for i in in1.split():\n",
    "    if not (i == \"\"):\n",
    "        if \"\\t\" not in i :\n",
    "            res.append(i)\n",
    "        else :\n",
    "            for j in i.split(\"\\t\"):\n",
    "                res.append(j)\n",
    "\n",
    "\n",
    "resF = []\n",
    "for i in res :\n",
    "    if i == \"RED\":\n",
    "        resF.append(0)\n",
    "    if i == \"BLACK\":\n",
    "        resF.append(1)\n",
    "    if i == \"YELLOW\":\n",
    "        resF.append(2)\n",
    "\n",
    "    if i == \"YES\":\n",
    "        resF.append(1)\n",
    "    if i == \"NO\":\n",
    "        resF.append(0)\n",
    "    if i == \"SPORT\":\n",
    "        resF.append(1)\n",
    "    if i == \"CLASSIC\":\n",
    "        resF.append(0)\n",
    "resF = np.array(resF).reshape((13, -1))\n"
   ]
  },
  {
   "cell_type": "code",
   "execution_count": 151,
   "metadata": {},
   "outputs": [],
   "source": [
    "n_b = Naive_Bayes()"
   ]
  },
  {
   "cell_type": "code",
   "execution_count": 152,
   "metadata": {},
   "outputs": [],
   "source": [
    "n_b.fit(resF[:, :-1], resF[:, -1])"
   ]
  },
  {
   "cell_type": "code",
   "execution_count": 153,
   "metadata": {},
   "outputs": [
    {
     "data": {
      "text/plain": [
       "0.6153846153846154"
      ]
     },
     "execution_count": 153,
     "metadata": {},
     "output_type": "execute_result"
    }
   ],
   "source": [
    "sum(n_b.predict(resF[:, :-1]) == resF[:, -1]) / resF.shape[0]"
   ]
  },
  {
   "cell_type": "code",
   "execution_count": 154,
   "metadata": {},
   "outputs": [],
   "source": [
    "from sklearn.naive_bayes import GaussianNB\n",
    "gnb = GaussianNB()"
   ]
  },
  {
   "cell_type": "code",
   "execution_count": 155,
   "metadata": {},
   "outputs": [
    {
     "data": {
      "text/plain": [
       "GaussianNB(priors=None, var_smoothing=1e-09)"
      ]
     },
     "execution_count": 155,
     "metadata": {},
     "output_type": "execute_result"
    }
   ],
   "source": [
    "gnb.fit(resF[:, :-1], resF[:, -1])"
   ]
  },
  {
   "cell_type": "code",
   "execution_count": 156,
   "metadata": {},
   "outputs": [
    {
     "data": {
      "text/plain": [
       "0.6153846153846154"
      ]
     },
     "execution_count": 156,
     "metadata": {},
     "output_type": "execute_result"
    }
   ],
   "source": [
    "sum(gnb.predict(resF[:, :-1]) == resF[:, -1]) / resF.shape[0]"
   ]
  },
  {
   "cell_type": "code",
   "execution_count": null,
   "metadata": {},
   "outputs": [],
   "source": []
  }
 ],
 "metadata": {
  "kernelspec": {
   "display_name": "Python 3",
   "language": "python",
   "name": "python3"
  },
  "language_info": {
   "codemirror_mode": {
    "name": "ipython",
    "version": 3
   },
   "file_extension": ".py",
   "mimetype": "text/x-python",
   "name": "python",
   "nbconvert_exporter": "python",
   "pygments_lexer": "ipython3",
   "version": "3.6.7"
  }
 },
 "nbformat": 4,
 "nbformat_minor": 2
}
